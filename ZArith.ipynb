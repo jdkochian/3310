{
 "cells": [
  {
   "cell_type": "code",
   "execution_count": 1,
   "metadata": {},
   "outputs": [],
   "source": [
    "import math\n",
    "import numpy as np\n",
    "import matplotlib.pyplot as plt"
   ]
  },
  {
   "cell_type": "code",
   "execution_count": null,
   "metadata": {},
   "outputs": [],
   "source": [
    "AlZ = 13\n",
    "CuZ = 29\n",
    "PbZ = 82\n",
    "\n",
    "#These values are calculated from data, they are from the lab and not the internet\n",
    "Alµ = -0.15008456584724772\n",
    "Cuµ = -0.47991047106760903\n",
    "Pbµ = -0.9305344128321792\n",
    "\n",
    "#From Wikipedia: \n",
    "Al_rho = -1\n",
    "Cu_rho = -1\n",
    "Pb_rho = -1"
   ]
  }
 ],
 "metadata": {
  "kernelspec": {
   "display_name": "Python 3",
   "language": "python",
   "name": "python3"
  },
  "language_info": {
   "codemirror_mode": {
    "name": "ipython",
    "version": 3
   },
   "file_extension": ".py",
   "mimetype": "text/x-python",
   "name": "python",
   "nbconvert_exporter": "python",
   "pygments_lexer": "ipython3",
   "version": "3.7.4"
  }
 },
 "nbformat": 4,
 "nbformat_minor": 2
}
