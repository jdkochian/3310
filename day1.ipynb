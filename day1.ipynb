{
 "cells": [
  {
   "cell_type": "code",
   "execution_count": 1,
   "metadata": {},
   "outputs": [],
   "source": [
    "import math\n",
    "\n",
    "def avg(lst) -> int: \n",
    "  return sum(lst) / len(lst)\n",
    "\n",
    "def uncertainty(lst, avg) -> int: \n",
    "\n",
    "  lst2 = list(map(lambda x: math.pow(x - avg, 2), lst))\n",
    "  return math.pow(sum(lst2)/len(lst)/(len(lst) - 1), 0.5)\n",
    "  "
   ]
  },
  {
   "cell_type": "code",
   "execution_count": 2,
   "metadata": {},
   "outputs": [
    {
     "name": "stdout",
     "output_type": "stream",
     "text": [
      "Average Centroid Energy Reading: 708.51 +/- 0.16 keV\n",
      "Average Net Count: 7165.2 +/- 62.84\n"
     ]
    }
   ],
   "source": [
    "e0 = 707.8 \n",
    "e1 = 707.9\n",
    "e2 = 707.8\n",
    "e3 = 708.4\n",
    "e4 = 708.5\n",
    "e5 = 708.9\n",
    "e6 = 708.7\n",
    "e7 = 708.9\n",
    "e8 = 709.0\n",
    "e9 = 709.2\n",
    "eList = [e0, e1, e2, e3, e4, e5, e6, e7, e8, e9]\n",
    "\n",
    "eAvg = avg(eList)\n",
    "eUncert = uncertainty(eList, eAvg)\n",
    "\n",
    "c0 = 7479\n",
    "c1 = 7125\n",
    "c2 = 7357\n",
    "c3 = 7160\n",
    "c4 = 6949\n",
    "c5 = 7180\n",
    "c6 = 7153\n",
    "c7 = 6769\n",
    "c8 = 7280\n",
    "c9 = 7200\n",
    "cList = [c0, c1, c2, c3, c4, c5, c6, c7, c8, c9]\n",
    "\n",
    "cAvg = avg(cList)\n",
    "cUncert = uncertainty(cList, cAvg)\n",
    "\n",
    "print(\"Average Centroid Energy Reading: \" + str(eAvg) + \" +/- \" + f\"{eUncert:.2f}\" + \" keV\")\n",
    "print(\"Average Net Count: \" + str(cAvg) + \" +/- \" + f\"{cUncert:.2f}\")"
   ]
  },
  {
   "cell_type": "code",
   "execution_count": null,
   "metadata": {},
   "outputs": [],
   "source": []
  }
 ],
 "metadata": {
  "interpreter": {
   "hash": "81621cacaad6cce961558b268cbcf4934bbe7514037ec113fb24011cd31f43fc"
  },
  "kernelspec": {
   "display_name": "Python 3",
   "language": "python",
   "name": "python3"
  },
  "language_info": {
   "codemirror_mode": {
    "name": "ipython",
    "version": 3
   },
   "file_extension": ".py",
   "mimetype": "text/x-python",
   "name": "python",
   "nbconvert_exporter": "python",
   "pygments_lexer": "ipython3",
   "version": "3.7.4"
  }
 },
 "nbformat": 4,
 "nbformat_minor": 2
}
