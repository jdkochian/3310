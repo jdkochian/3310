{
 "cells": [
  {
   "cell_type": "code",
   "execution_count": 3,
   "metadata": {},
   "outputs": [],
   "source": [
    "import math\n",
    "import numpy as np\n",
    "import matplotlib.pyplot as plt\n",
    "\n",
    "def chi_square(x : list, observed : list, m, b, uncertainties) -> float: \n",
    "    lst = []\n",
    "    err = uncertainties\n",
    "    for i in range(len(observed)): \n",
    "        lst.append(((observed[i] - (x[i] * m + b)) / err[i]) ** 2)\n",
    "    return sum(lst)\n",
    "\n",
    "def average(lst): \n",
    "    return sum(lst) / len(lst)\n",
    "\n",
    "def uncert(xlst): \n",
    "    avg = average(xlst)\n",
    "    s = 0\n",
    "    for x in xlst: \n",
    "        s += (x - avg) ** 2\n",
    "    return (s / (len(xlst) - 1)) ** 0.5\n",
    "\n",
    "\n",
    "def get_diffraction_grating(n, theta, lmbda) -> float: \n",
    "    sin_theta = np.sin(theta * math.pi / 180)\n",
    "    return n * lmbda / sin_theta\n",
    "\n",
    "def get_theta(n, d, lmbda) -> float: \n",
    "    prod = n * lmbda / d\n",
    "    return np.arcsin(prod)\n",
    "\n",
    "def get_lambda(n, d, theta) -> float: \n",
    "    prod = d * np.sin(theta * math.pi / 180 ) / n\n",
    "    return abs(prod)\n",
    "\n",
    "def linear_fit(xlst, ylst, err): \n",
    "    plt.errorbar(x, y, yerr = err, fmt = \"o\")\n",
    "    xlst = np.array(xlst)\n",
    "    ylst = np.array(ylst)\n",
    "    [m, b], V = np.polyfit(xlst, ylst, 1, cov = True)\n",
    "    plt.plot(xlst, m * xlst + b)\n",
    "    m_err, b_err = V[0][0], V[1, 1]\n",
    "    print(f\"Rydberg Constant: {m:.2e} +/- {np.sqrt(m_err):.2e}\")\n",
    "#     print(\"b parameter: \" + str(b) + \" +/- \" + str(np.sqrt(b_err)))\n",
    "    \n",
    "    plt.show()\n",
    "    return m, b"
   ]
  },
  {
   "cell_type": "code",
   "execution_count": 4,
   "metadata": {},
   "outputs": [
    {
     "name": "stdout",
     "output_type": "stream",
     "text": [
      "N = -2: -1.70e-06\n",
      "N = -1: -1.5436450773948616e-06\n",
      "N = 1: 1.673042060849182e-06\n",
      "N = 2: 1.66827252525349e-06\n"
     ]
    }
   ],
   "source": [
    "order_0 = 200.51\n",
    "lmbda_Hg = 435.835 * 10 ** -9\n",
    "order_minus_one = average([216 + 23/60, 216.5 + 22/60, 217 + 23/60])\n",
    "order_one = average([185 + 12/60, 185.5 + 11/60, 185 + 11/60])\n",
    "\n",
    "d_minus_two = get_diffraction_grating(-2, 30.9, lmbda_Hg)\n",
    "d_minus_one = get_diffraction_grating(-1, 16.4, lmbda_Hg)\n",
    "d_one = get_diffraction_grating(1, 15.1, lmbda_Hg)\n",
    "d_two = get_diffraction_grating(2, 31.5, lmbda_Hg)\n",
    "                                \n",
    "                            \n",
    "print(f\"N = -2: {get_diffraction_grating(-2, 30.9, lmbda_Hg):.2e}\")\n",
    "print(f\"N = -1: {get_diffraction_grating(-1, 16.4, lmbda_Hg)}\")\n",
    "print(f\"N = 1: {get_diffraction_grating(1, 15.1, lmbda_Hg)}\")\n",
    "print(f\"N = 2: {get_diffraction_grating(2, 31.5, lmbda_Hg)}\")"
   ]
  },
  {
   "cell_type": "code",
   "execution_count": 5,
   "metadata": {},
   "outputs": [
    {
     "name": "stdout",
     "output_type": "stream",
     "text": [
      "d: 1.6455826519771415e-06 +\\- 6.914271672860105e-08m\n",
      "Lines per grating: 607.6874952458425 +/- 14.462839288268052 lines / mm\n"
     ]
    }
   ],
   "source": [
    "d_list = list(map(lambda x : abs(x), [d_minus_two, d_minus_one, d_one, d_two]))\n",
    "d = average(d_list)\n",
    "d_uncert = uncert(d_list)\n",
    "\n",
    "print(f\"d: {d} +\\- {d_uncert}m\")\n",
    "print(f\"Lines per grating: {1/d / 1000} +/- {1/d_uncert/1000000} lines / mm\")"
   ]
  },
  {
   "cell_type": "code",
   "execution_count": 35,
   "metadata": {},
   "outputs": [
    {
     "name": "stdout",
     "output_type": "stream",
     "text": [
      "{'purple': 4.309255487960944e-07, 'cyan': 4.796449520683354e-07, 'red': 6.583255052452728e-07}\n",
      "{'purple': 1.5560633444643128e-08, 'cyan': 2.3549545122479793e-08, 'red': 8.797555351811073e-08}\n",
      "Rydberg Constant: 1.13e+07 +/- 2.78e+05\n"
     ]
    },
    {
     "data": {
      "image/png": "[encoded data removed]",
      "text/plain": [
       "<Figure size 432x288 with 1 Axes>"
      ]
     },
     "metadata": {
      "needs_background": "light"
     },
     "output_type": "display_data"
    }
   ],
   "source": [
    "data = {\n",
    "    \n",
    "    \"purple\": {1 : 14.5, 2 : 31.1, -1 : 15.5, -2 : 32.9},\n",
    "    \"cyan\" : {1 : 17.4, 2 : 35.2, 3 : 59.4, -1 : 15.5, -2 : 36.7, -3 : 67.8}, \n",
    "    \"red\" : {1 : 23.1, 2 : 51.4, -1 : 28.5, -2 : 55.5, -3 : 79.7},\n",
    "    \n",
    "}\n",
    "\n",
    "lambdas = {\"purple\" : 0, \"cyan\" : 0, \"red\" : 0}\n",
    "uncertainties = {}\n",
    "\n",
    "for color, measurements in data.items():\n",
    "    lst = []\n",
    "    for n, theta in measurements.items(): \n",
    "        lst.append(get_lambda(n, d, theta))\n",
    "        \n",
    "    lambdas[color] = average(lst)\n",
    "    uncertainties[color] = uncertainties.get(color, 0) + uncert(lst)\n",
    "\n",
    "print(lambdas)\n",
    "print(uncertainties)\n",
    "\n",
    "x = [1/4 - 1/9 - (1/4 - 1/9), 1/4 - 1/16 - (1/4 - 1/9), 1/4 - 1/25 - (1/4 - 1/9)]\n",
    "y = [1/lambdas[\"red\"] - 1/lambdas[\"red\"], 1/lambdas[\"cyan\"] - 1/lambdas[\"red\"], 1/lambdas[\"purple\"] - 1/lambdas[\"red\"]]\n",
    "\n",
    "\n",
    "plt.plot(x, y, \"o\")\n",
    "linear_fit(x, y, list(map(lambda x : x * 0.1, x)))\n",
    "plt.show()"
   ]
  },
  {
   "cell_type": "code",
   "execution_count": 28,
   "metadata": {},
   "outputs": [
    {
     "name": "stdout",
     "output_type": "stream",
     "text": [
      "Rydberg Constant: 1.104e+07 +/- 9.22e+04\n"
     ]
    }
   ],
   "source": [
    "def get_R(lmbda, m): \n",
    "    return 1 / (lmbda * (1 / 4 - 1/m**2))\n",
    "\n",
    "R_list = [get_R(lambdas[\"red\"], 3), get_R(lambdas[\"cyan\"], 4), get_R(lambdas[\"purple\"], 5)]\n",
    "\n",
    "\n",
    "R = average(R_list)\n",
    "R_uncert = uncert(R_list)\n",
    "print(f\"Rydberg Constant: {R:.3e} +/- {R_uncert:.2e}\")"
   ]
  },
  {
   "cell_type": "code",
   "execution_count": null,
   "metadata": {},
   "outputs": [],
   "source": []
  },
  {
   "cell_type": "code",
   "execution_count": null,
   "metadata": {},
   "outputs": [],
   "source": []
  }
 ],
 "metadata": {
  "kernelspec": {
   "display_name": "Python 3",
   "language": "python",
   "name": "python3"
  },
  "language_info": {
   "codemirror_mode": {
    "name": "ipython",
    "version": 3
   },
   "file_extension": ".py",
   "mimetype": "text/x-python",
   "name": "python",
   "nbconvert_exporter": "python",
   "pygments_lexer": "ipython3",
   "version": "3.7.4"
  }
 },
 "nbformat": 4,
 "nbformat_minor": 2
}
