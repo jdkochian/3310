{
 "cells": [
  {
   "cell_type": "code",
   "execution_count": 2,
   "metadata": {},
   "outputs": [],
   "source": [
    "import math\n",
    "import matplotlib.pyplot as plt\n",
    "import numpy as np\n",
    "\n",
    "def chi_square(x : list, observed : list, m, b, uncertainties) -> float: \n",
    "    lst = []\n",
    "    err = uncertainties\n",
    "    for i in range(len(observed)): \n",
    "        lst.append(((observed[i] - (x[i] * m + b)) / err[i]) ** 2)\n",
    "    return sum(lst)\n",
    "\n",
    "def linear_fit(xlst, ylst, err): \n",
    "    plt.errorbar(x, y, yerr = err, fmt = \"o\")\n",
    "    xlst = np.array(xlst)\n",
    "    ylst = np.array(ylst)\n",
    "    [b, a], V = np.polyfit(xlst, ylst, 1, cov = True)\n",
    "    plt.plot(xlst, b * xlst + a)\n",
    "    a_err, b_err = V[0][0], V[1, 1]\n",
    "    print(\"b parameter: \" + str(-b) + \" +/- \" + str(np.sqrt(b_err)))\n",
    "    print(\"a parameter: \" + str(a) + \" +/- \" + str(np.sqrt(a_err)))\n",
    "    \n",
    "    plt.show()\n",
    "    return b, a\n",
    "\n"
   ]
  },
  {
   "cell_type": "code",
   "execution_count": 3,
   "metadata": {},
   "outputs": [
    {
     "name": "stdout",
     "output_type": "stream",
     "text": [
      "b parameter: 4.368464730290454 +/- 1.3144917008764274\n",
      "a parameter: 57.17551867219915 +/- 0.14980023198328762\n"
     ]
    },
    {
     "data": {
      "image/png": "[encoded data removed]",
      "text/plain": [
       "<Figure size 432x288 with 1 Axes>"
      ]
     },
     "metadata": {
      "needs_background": "light"
     },
     "output_type": "display_data"
    },
    {
     "name": "stdout",
     "output_type": "stream",
     "text": [
      "61.80647302904555\n"
     ]
    }
   ],
   "source": [
    "x = [0, 3, 6, 9, 10, 12, 13] \n",
    "y = [56.9, 44.6, 32.4, 16.3, 12.1, 3.4, 3.0]\n",
    "err = [0.5] * 7\n",
    "\n",
    "b, a = linear_fit(x, y, err)\n",
    "print(chi_square(x, y, b, a, err))\n"
   ]
  },
  {
   "cell_type": "code",
   "execution_count": 7,
   "metadata": {},
   "outputs": [
    {
     "name": "stdout",
     "output_type": "stream",
     "text": [
      "beam width in radians: 0.14888994760949725\n",
      "beam width in degrees: 8.530765609948133\n"
     ]
    }
   ],
   "source": [
    "def get_angle(o, a):\n",
    "    return np.arctan(o / a)\n",
    "\n",
    "print(f\"angle of beam width in radians: {get_angle(4.5, 30)}\")\n",
    "print(f\"angle of beam width in degrees: {get_angle(4.5, 30) * 180 / math.pi}\")\n",
    "    "
   ]
  },
  {
   "cell_type": "code",
   "execution_count": null,
   "metadata": {},
   "outputs": [],
   "source": []
  },
  {
   "cell_type": "code",
   "execution_count": null,
   "metadata": {},
   "outputs": [],
   "source": []
  }
 ],
 "metadata": {
  "kernelspec": {
   "display_name": "Python 3",
   "language": "python",
   "name": "python3"
  },
  "language_info": {
   "codemirror_mode": {
    "name": "ipython",
    "version": 3
   },
   "file_extension": ".py",
   "mimetype": "text/x-python",
   "name": "python",
   "nbconvert_exporter": "python",
   "pygments_lexer": "ipython3",
   "version": "3.7.4"
  }
 },
 "nbformat": 4,
 "nbformat_minor": 2
}
