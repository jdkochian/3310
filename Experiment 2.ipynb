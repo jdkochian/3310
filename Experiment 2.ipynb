{
 "cells": [
  {
   "cell_type": "code",
   "execution_count": 18,
   "metadata": {},
   "outputs": [],
   "source": [
    "import math\n",
    "import matplotlib.pyplot as plt\n",
    "import numpy as np\n",
    "from scipy.stats import norm\n",
    "\n",
    "def chi_square(x : list, observed : list, m, b, uncertainties) -> float: \n",
    "    lst = []\n",
    "    err = uncertainties\n",
    "    for i in range(len(observed)): \n",
    "        lst.append(((observed[i] - (x[i] * m + b)) / err[i]) ** 2)\n",
    "    return sum(lst)\n",
    "\n",
    "def linear_fit(xlst, ylst, err): \n",
    "    plt.errorbar(x, y, yerr = err, fmt = \"o\")\n",
    "    xlst = np.array(xlst)\n",
    "    ylst = np.array(ylst)\n",
    "    [b, a], V = np.polyfit(xlst, ylst, 1, cov = True)\n",
    "    plt.plot(xlst, b * xlst + a)\n",
    "    a_err, b_err = V[0][0], V[1, 1]\n",
    "    print(\"b parameter: \" + str(b) + \" +/- \" + str(np.sqrt(b_err)))\n",
    "    print(\"a parameter: \" + str(a) + \" +/- \" + str(np.sqrt(a_err)))\n",
    "    \n",
    "    plt.show()\n",
    "    return b, a\n",
    "\n",
    "def average(lst): \n",
    "    return sum(lst) / len(lst)\n",
    "\n",
    "def omega(angle): \n",
    "    return (angle ** 2) * math.pi / 4"
   ]
  },
  {
   "cell_type": "code",
   "execution_count": 2,
   "metadata": {},
   "outputs": [
    {
     "name": "stdout",
     "output_type": "stream",
     "text": [
      "b parameter: -4.528709677419354 +/- 0.8482832942752782\n",
      "a parameter: 57.80806451612902 +/- 0.10802286149523728\n"
     ]
    },
    {
     "data": {
      "image/png": "[encoded data removed]",
      "text/plain": [
       "<Figure size 432x288 with 1 Axes>"
      ]
     },
     "metadata": {
      "needs_background": "light"
     },
     "output_type": "display_data"
    }
   ],
   "source": [
    "x = [0, 3, 6, 9, 10, 12] \n",
    "y = [56.9, 44.6, 32.4, 16.3, 12.1, 3.4]\n",
    "err = [0.5] * 6\n",
    "\n",
    "b, a = linear_fit(x, y, err)\n"
   ]
  },
  {
   "cell_type": "code",
   "execution_count": 3,
   "metadata": {},
   "outputs": [
    {
     "name": "stdout",
     "output_type": "stream",
     "text": [
      "angle of beam width in radians: 0.14888994760949725\n",
      "angle of beam width in degrees: 8.530765609948133\n"
     ]
    }
   ],
   "source": [
    "def get_angle(o, a):\n",
    "    return np.arctan(o / a)\n",
    "\n",
    "print(f\"angle of beam width in radians: {get_angle(4.5, 30)}\")\n",
    "print(f\"angle of beam width in degrees: {get_angle(4.5, 30) * 180 / math.pi}\")\n",
    "    "
   ]
  },
  {
   "cell_type": "code",
   "execution_count": 4,
   "metadata": {},
   "outputs": [
    {
     "name": "stdout",
     "output_type": "stream",
     "text": [
      "0.0642180426842336\n",
      "3.679422814397558\n"
     ]
    }
   ],
   "source": [
    "print(np.arcsin(1.2 * 2.46/46))\n",
    "print(np.arcsin(1.2 * 2.46/46) * 180 / math.pi)"
   ]
  },
  {
   "cell_type": "code",
   "execution_count": 5,
   "metadata": {},
   "outputs": [
    {
     "name": "stdout",
     "output_type": "stream",
     "text": [
      "-0.3623121304936248\n",
      "T0: 92.71114906308662\n"
     ]
    }
   ],
   "source": [
    "T1 = 298.15\n",
    "T2 = 77\n",
    "D2 = average([41.3, 41.4, 41.5, 41.4])\n",
    "\n",
    "\n",
    "alpha = (D2 - a) / (-10 * b)\n",
    "print(alpha)\n",
    "T0 = (T1 * (10 ** alpha)) - T2\n",
    "T0 = T0 / (1 - 10 ** alpha)\n",
    "print(f\"T0: {T0}\")"
   ]
  },
  {
   "cell_type": "code",
   "execution_count": 65,
   "metadata": {},
   "outputs": [
    {
     "name": "stdout",
     "output_type": "stream",
     "text": [
      "T: 1777.754986102385\n",
      "0.010574691783677601\n",
      "Temperature of the Sun in K: 312,794.4494929624\n"
     ]
    }
   ],
   "source": [
    "D = average([87.2, 90])\n",
    "a2 = (D - a)/(-10 * b)\n",
    "T = 10 ** a2 * (T1 + T0) - T0\n",
    "\n",
    "print(f\"T: {T}\")\n",
    "\n",
    "# omegaAntenna = get_angle(4.5, 30) * get_angle(4.5, 30) * 3.14 / 4\n",
    "omegaAntenna = 0.1160644 * 0.1160644 * 3.14 / 4\n",
    "print(omegaAntenna)\n",
    "omegaSun =  6 * 10 ** -5\n",
    "\n",
    "\n",
    "final = T * omegaAntenna - 3 * (omegaAntenna - omegaSun)\n",
    "final = final / omegaSun\n",
    "print(f\"Temperature of the Sun in K: {final:,}\")"
   ]
  },
  {
   "cell_type": "code",
   "execution_count": 56,
   "metadata": {},
   "outputs": [
    {
     "data": {
      "image/png": "[encoded data removed]",
      "text/plain": [
       "<Figure size 432x288 with 1 Axes>"
      ]
     },
     "metadata": {
      "needs_background": "light"
     },
     "output_type": "display_data"
    }
   ],
   "source": [
    "x = list(np.arange(24))\n",
    "y = [32.4, 31.2, 32.3, 32.0, 34.3, 37.6, 43.3, 49.2, 60.7, 72.3, 77.0, 80.6, 79.2, 76.6, 69.4, 59.1, 52.0, 50.2, 44.6, 39.2, 35.2, 32.0, 32.4, 31.3]\n",
    "err = [0.3] * 24\n",
    "\n",
    "plt.errorbar(x, y, yerr = err, fmt = \"r\")\n",
    "plt.axhline(y = 40.3)\n",
    "plt.axvline(x=5.5)\n",
    "plt.axvline(x=18.8)\n",
    "plt.show()"
   ]
  },
  {
   "cell_type": "code",
   "execution_count": null,
   "metadata": {},
   "outputs": [],
   "source": []
  }
 ],
 "metadata": {
  "kernelspec": {
   "display_name": "Python 3",
   "language": "python",
   "name": "python3"
  },
  "language_info": {
   "codemirror_mode": {
    "name": "ipython",
    "version": 3
   },
   "file_extension": ".py",
   "mimetype": "text/x-python",
   "name": "python",
   "nbconvert_exporter": "python",
   "pygments_lexer": "ipython3",
   "version": "3.7.4"
  }
 },
 "nbformat": 4,
 "nbformat_minor": 2
}
