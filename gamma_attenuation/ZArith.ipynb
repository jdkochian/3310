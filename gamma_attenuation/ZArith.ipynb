{
 "cells": [
  {
   "cell_type": "code",
   "execution_count": 1,
   "metadata": {},
   "outputs": [],
   "source": [
    "import numpy as np\n",
    "import matplotlib.pyplot as plt"
   ]
  },
  {
   "cell_type": "code",
   "execution_count": 52,
   "metadata": {},
   "outputs": [
    {
     "name": "stdout",
     "output_type": "stream",
     "text": [
      "-2.4905050088623922e-30 +/- 2.6737964345348234e-31\n",
      "-5.651835452281413e-30 +/- 2.3313135196665455e-31\n",
      "-2.822560837829415e-29 +/- 2.3897751116421526e-30\n"
     ]
    }
   ],
   "source": [
    "AlZ = 13\n",
    "CuZ = 29\n",
    "PbZ = 82\n",
    "\n",
    "#These values are calculated from data, they are from the lab and not the internet\n",
    "Alµ = -0.15008456584724772\n",
    "Cuµ = -0.47991047106760903\n",
    "Pbµ = -0.9305344128321792\n",
    "Al_err = 0.016113020275529615\n",
    "Cu_err = 0.019795724395653365\n",
    "Pb_err = 0.07878547560459288\n",
    "\n",
    "#From Wikipedia, mass densities in kg/m^3: \n",
    "Al_rho = 2700\n",
    "Cu_rho = 8960\n",
    "Pb_rho = 11343\n",
    "Al_mass = 4.4803831 * 10**-26 \n",
    "Cu_mass = 1.0552061 * 10**-25\n",
    "Pb_mass = 3.4406366 * 10**-25\n",
    "\n",
    "AlZ = 13\n",
    "CuZ = 29\n",
    "PbZ = 82\n",
    "\n",
    "def cross_section(µ, n): \n",
    "    return µ/n\n",
    "\n",
    "def interested_quantity(µ, mass, rho, Z): \n",
    "    return µ*mass/(rho * Z)\n",
    "\n",
    "al_cross_section = cross_section(Alµ, Al_rho/Al_mass)\n",
    "cu_cross_section = cross_section(Cuµ, Cu_rho/Cu_mass)\n",
    "pb_cross_section = cross_section(Pbµ, Pb_rho/Pb_mass)\n",
    "al_sigma_uncertainty = cross_section(Al_err, Al_rho/Al_mass)\n",
    "cu_sigma_uncertainty = cross_section(Cu_err, Cu_rho/Cu_mass)\n",
    "pb_sigma_uncertainty = cross_section(Pb_err, Pb_rho/Pb_mass)\n",
    "\n",
    "\n",
    "for sigma, uncert in [(al_cross_section, al_sigma_uncertainty), (cu_cross_section,cu_sigma_uncertainty), (pb_cross_section, pb_sigma_uncertainty)]:\n",
    "    print(str(sigma) + \" +/- \" + str(uncert))"
   ]
  },
  {
   "cell_type": "code",
   "execution_count": 53,
   "metadata": {},
   "outputs": [
    {
     "data": {
      "image/png": "[encoded data removed]",
      "text/plain": [
       "<Figure size 432x288 with 1 Axes>"
      ]
     },
     "metadata": {
      "needs_background": "light"
     },
     "output_type": "display_data"
    }
   ],
   "source": [
    "plt.errorbar([AlZ, CuZ, PbZ], [interested_quantity(Alµ,  Al_mass, Al_rho, AlZ), \n",
    "                           interested_quantity(Cuµ,  Cu_mass, Cu_rho, CuZ), \n",
    "                          interested_quantity(Pbµ, Pb_mass, Pb_rho, PbZ)], \n",
    "             yerr = [interested_quantity(Al_err,  Al_mass, Al_rho, AlZ), \n",
    "                           interested_quantity(Cu_err,  Cu_mass, Cu_rho, CuZ), \n",
    "                          interested_quantity(Pb_err, Pb_mass, Pb_rho, PbZ)],)\n",
    "plt.show()\n"
   ]
  },
  {
   "cell_type": "code",
   "execution_count": null,
   "metadata": {},
   "outputs": [],
   "source": []
  },
  {
   "cell_type": "code",
   "execution_count": null,
   "metadata": {},
   "outputs": [],
   "source": []
  }
 ],
 "metadata": {
  "kernelspec": {
   "display_name": "Python 3",
   "language": "python",
   "name": "python3"
  },
  "language_info": {
   "codemirror_mode": {
    "name": "ipython",
    "version": 3
   },
   "file_extension": ".py",
   "mimetype": "text/x-python",
   "name": "python",
   "nbconvert_exporter": "python",
   "pygments_lexer": "ipython3",
   "version": "3.7.4"
  }
 },
 "nbformat": 4,
 "nbformat_minor": 2
}
